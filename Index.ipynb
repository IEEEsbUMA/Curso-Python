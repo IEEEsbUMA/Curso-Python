{
 "cells": [
  {
   "cell_type": "markdown",
   "metadata": {},
   "source": [
    "<div class=\"clearfix\" style=\"padding: 10px; padding-left: 0px\">\n",
    "<img src=\"http://javierpalacio.es/wp-content/uploads/2015/02/Python-3-3-3-Officially-Released-401654-2.png\" width=\"250px\" style=\"display: inline-block; margin-top: 5px;\">\n",
    "<img src=\"https://photos-6.dropbox.com/t/2/AADcGgNFoXn861-DWAdRFVIddzryTfma91ygv-Mc3u9CjA/12/42400337/png/32x32/1/_/1/2/Imitaci%C3%B3n%20Sello%20IEEE%20-%20Transparente.png/EJr-qUQYnGsgAigC/eYPfIKger7h5qbJ5lkmgk_cnTCBcTDzyQfWtNY2-8EY?size=1024x768&size_mode=2\" width=\"250px\" class=\"pull-right\" style=\"display: inline-block; margin-top: 5px; \">\n",
    "</div>"
   ]
  },
  {
   "cell_type": "markdown",
   "metadata": {},
   "source": [
    "# Introducción a Python"
   ]
  },
  {
   "cell_type": "markdown",
   "metadata": {
    "collapsed": true
   },
   "source": [
    "[1.Qué es python y como instalarlo](1.%20Que%20es%20python%20y%20como%20instalarlo.ipynb)\n",
    "\n",
    "[2. Diferentes formas de usar python](2.%20Diferentes%20formas%20de%20usar%20python.ipynb)\n",
    "\n",
    "[3. Empezando con python](3.%20Empezando%20con%20python.ipynb)\n",
    "\n",
    "[4. Python orientado a objetos](4.%20Python%20orientado%20a%20objetos.ipynb)\n",
    "\n",
    "[5. Uso de Módulos y paquetes](5.%20Uso%20de%20módulos%20y%20paquetes.ipynb)\n",
    "\n",
    "[6. Herencia, Polimorgismo y Duck Typing](5.%20Uso%20de%20módulos%20y%20paquetes.ipynb)\n",
    "\n",
    "[7. Errores y Excepciones](5.%20Uso%20de%20módulos%20y%20paquetes.ipynb)\n",
    "\n",
    "[8. De python a .exe](5.%20Uso%20de%20módulos%20y%20paquetes.ipynb)\n",
    "\n",
    "[Proyecto final 1](5.%20Uso%20de%20módulos%20y%20paquetes.ipynb)"
   ]
  },
  {
   "cell_type": "markdown",
   "metadata": {
    "collapsed": true
   },
   "source": [
    "# Python para ingeniería"
   ]
  },
  {
   "cell_type": "markdown",
   "metadata": {
    "collapsed": true
   },
   "source": [
    "[1. Numpy y matplotib](6.%20Numpy%20y%20Matplotlib.ipynb)\n",
    "\n",
    "[2. Scypy](7.%20Scypy.ipynb)\n",
    "\n",
    "[3. Optimizando con numba](8.%20Optimizando%20con%20numba.ipynb)\n",
    "\n",
    "[4. Widgets interactivos]()\n",
    "\n",
    "[5. Pandas]()\n",
    "\n",
    "[Proyecto Final 2]()\n"
   ]
  }
 ],
 "metadata": {
  "kernelspec": {
   "display_name": "Python 3",
   "language": "python",
   "name": "python3"
  },
  "language_info": {
   "codemirror_mode": {
    "name": "ipython",
    "version": 3
   },
   "file_extension": ".py",
   "mimetype": "text/x-python",
   "name": "python",
   "nbconvert_exporter": "python",
   "pygments_lexer": "ipython3",
   "version": "3.4.3"
  }
 },
 "nbformat": 4,
 "nbformat_minor": 0
}
