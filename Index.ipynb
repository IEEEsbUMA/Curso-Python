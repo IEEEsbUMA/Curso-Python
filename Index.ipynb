{
 "cells": [
  {
   "cell_type": "markdown",
   "metadata": {},
   "source": [
    "<div class=\"clearfix\" style=\"padding: 10px; padding-left: 0px\">\n",
    "<img src=\"http://javierpalacio.es/wp-content/uploads/2015/02/Python-3-3-3-Officially-Released-401654-2.png\" width=\"250px\" style=\"display: inline-block; margin-top: 5px;\">\n",
    "<img src=\"http://javierpalacio.es/wp-content/uploads/2015/02/Python-3-3-3-Officially-Released-401654-2.png\" width=\"250px\" style=\"display: inline-block; margin-top: 5px;\">\n",
    "</div>"
   ]
  },
  {
   "cell_type": "markdown",
   "metadata": {},
   "source": [
    "# Introducción a Python"
   ]
  },
  {
   "cell_type": "markdown",
   "metadata": {
    "collapsed": true
   },
   "source": [
    "[1.Qué es python y como instalarlo](1.%20Que%20es%20python%20y%20como%20instalarlo.ipynb)\n",
    "\n",
    "[2. Diferentes formas de usar python](2.%20Diferentes%20formas%20de%20usar%20python.ipynb)\n",
    "\n",
    "[3. Empezando con python](3.%20Empezando%20con%20python.ipynb)\n",
    "\n",
    "[4. Python orientado a objetos](#)"
   ]
  },
  {
   "cell_type": "markdown",
   "metadata": {
    "collapsed": true
   },
   "source": [
    "# Python para ingeniería"
   ]
  },
  {
   "cell_type": "markdown",
   "metadata": {
    "collapsed": true
   },
   "source": [
    "[5. Numpy y matplotib]()"
   ]
  }
 ],
 "metadata": {
  "kernelspec": {
   "display_name": "Python 3",
   "language": "python",
   "name": "python3"
  },
  "language_info": {
   "codemirror_mode": {
    "name": "ipython",
    "version": 3
   },
   "file_extension": ".py",
   "mimetype": "text/x-python",
   "name": "python",
   "nbconvert_exporter": "python",
   "pygments_lexer": "ipython3",
   "version": "3.4.3"
  }
 },
 "nbformat": 4,
 "nbformat_minor": 0
}
