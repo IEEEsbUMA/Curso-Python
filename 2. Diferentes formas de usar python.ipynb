{
 "cells": [
  {
   "cell_type": "markdown",
   "metadata": {},
   "source": [
    "# 2. Diferentes formas de usar python"
   ]
  },
  {
   "cell_type": "markdown",
   "metadata": {
    "collapsed": true
   },
   "source": [
    "## En Consola"
   ]
  },
  {
   "cell_type": "markdown",
   "metadata": {},
   "source": [
    "Para usar python en consola, solo tenemos que escribir: python\n",
    "\n",
    "Con esto ya podemos usar comandos python:\n",
    "\n",
    "* 585 * 852 / 52\n",
    "\n",
    "9585.0\n",
    "\n",
    "Para salir escribimos: exit()"
   ]
  },
  {
   "cell_type": "markdown",
   "metadata": {},
   "source": [
    "## En editor de texto"
   ]
  },
  {
   "cell_type": "markdown",
   "metadata": {},
   "source": [
    "Los archivos python tienen extensión .py, pero antes de nada vamos a hacer una comparativa de como hacer el típico \"Hola Mundo\" en varios lenguajes:"
   ]
  },
  {
   "cell_type": "markdown",
   "metadata": {},
   "source": [
    "* En C++\n",
    "\n",
    "int main(){\n",
    "\n",
    "    cout<<\"Hola Mundo\"<<endl;\n",
    "    \n",
    "    return 0;\n",
    "    \n",
    "}"
   ]
  },
  {
   "cell_type": "markdown",
   "metadata": {},
   "source": [
    "* En Java\n",
    "\n",
    "public class HolaMundo{\n",
    "\n",
    "    public static void main(String[] args) {\t\n",
    "    \n",
    "         System.out.println(\"Hola Mundo\");\n",
    "         \n",
    "\t}\n",
    "\n",
    "}"
   ]
  },
  {
   "cell_type": "markdown",
   "metadata": {},
   "source": [
    "* En python, creamos el archivo holaPython.py y escribimos:\n",
    "\n",
    "print(\"Hola Mundo\");\n",
    "\n"
   ]
  },
  {
   "cell_type": "markdown",
   "metadata": {},
   "source": [
    "Para ejecutarlo escribimos en consola: python holaPython.py"
   ]
  },
  {
   "cell_type": "markdown",
   "metadata": {},
   "source": [
    "## En Spyder IDE"
   ]
  },
  {
   "cell_type": "markdown",
   "metadata": {},
   "source": [
    "Este IDE lo veremos más en detalle más adelante, Spyder nos permite usar python como si se tratase de MATLAB"
   ]
  },
  {
   "cell_type": "markdown",
   "metadata": {},
   "source": [
    "## En jupyter notebook"
   ]
  },
  {
   "cell_type": "markdown",
   "metadata": {},
   "source": [
    "Jupyter notebook es una aplicación web que nos permite ejecutar código python y visualizar gráficas y funciones latex. Será lo que usaremos de aquí en adelante en el curso"
   ]
  }
 ],
 "metadata": {
  "kernelspec": {
   "display_name": "Python 3",
   "language": "python",
   "name": "python3"
  },
  "language_info": {
   "codemirror_mode": {
    "name": "ipython",
    "version": 3
   },
   "file_extension": ".py",
   "mimetype": "text/x-python",
   "name": "python",
   "nbconvert_exporter": "python",
   "pygments_lexer": "ipython3",
   "version": "3.4.3"
  }
 },
 "nbformat": 4,
 "nbformat_minor": 0
}
