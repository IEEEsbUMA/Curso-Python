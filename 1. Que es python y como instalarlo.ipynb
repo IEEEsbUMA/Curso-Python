{
 "cells": [
  {
   "cell_type": "markdown",
   "metadata": {},
   "source": [
    "# 1. Que es python y como instalarlo"
   ]
  },
  {
   "cell_type": "markdown",
   "metadata": {},
   "source": [
    "<div class=\"clearfix\" style=\"padding: 10px; padding-left: 0px\">\n",
    "<img src=\"http://javierpalacio.es/wp-content/uploads/2015/02/Python-3-3-3-Officially-Released-401654-2.png\" width=\"250px\" style=\"display: inline-block; margin-top: 5px;\">\n",
    "</div>"
   ]
  },
  {
   "cell_type": "markdown",
   "metadata": {},
   "source": [
    "# ¿Qué es python?"
   ]
  },
  {
   "cell_type": "markdown",
   "metadata": {},
   "source": [
    "* Es un lenguaje interpretado\n",
    "* Usa tipado dinámico\n",
    "* Es multiplataforma.\n",
    "* Posee una licencia de código abierto\n",
    "* Su filosofia: Bello es mejor que feo."
   ]
  },
  {
   "cell_type": "code",
   "execution_count": 6,
   "metadata": {
    "collapsed": false
   },
   "outputs": [],
   "source": [
    "import this"
   ]
  },
  {
   "cell_type": "markdown",
   "metadata": {},
   "source": [
    "# Como instalar python"
   ]
  },
  {
   "cell_type": "markdown",
   "metadata": {},
   "source": [
    "Hay varias formas de instalar python, para este curso nos hemos decantado por la que creemos más sencilla."
   ]
  },
  {
   "cell_type": "markdown",
   "metadata": {},
   "source": [
    "Vamos a usar la plataforma [Anaconda](https://www.continuum.io/why-anaconda), que está desarrollada por la empresa [Continuum analytics](https://www.continuum.io/), esta plataforma puede instalarse en todos los sistemas operativos y es gratuita (incluso para empresas)."
   ]
  },
  {
   "cell_type": "markdown",
   "metadata": {},
   "source": [
    "* Paso 1: Descargar la versión que corresponda para nuestro pc [Click aquí](https://www.continuum.io/downloads), descargar la opción de python 3.4"
   ]
  },
  {
   "cell_type": "markdown",
   "metadata": {},
   "source": [
    "* Paso 2: Seguir los pasos de instalación por defecto de nuestro sistemas operativo"
   ]
  },
  {
   "cell_type": "markdown",
   "metadata": {},
   "source": [
    "Y fin!! ya tenemos instalado python en nuestro pc"
   ]
  },
  {
   "cell_type": "markdown",
   "metadata": {},
   "source": [
    "## Instalar paquetes"
   ]
  },
  {
   "cell_type": "markdown",
   "metadata": {},
   "source": [
    "El instalador de paquetes de python es \"pip\""
   ]
  },
  {
   "cell_type": "markdown",
   "metadata": {},
   "source": [
    "Pero ya que hemos instalado Anaconda, esta incluye su propio instalador de paquetes llamado \"conda\"."
   ]
  },
  {
   "cell_type": "markdown",
   "metadata": {},
   "source": [
    "Para probarlo vamos a instalar unos paquetes que necesitaremos más adelante, en un terminal escribimos los siguientes comandos:\n",
    "\n",
    "* conda install jupyter\n",
    "* conda install mathjax"
   ]
  },
  {
   "cell_type": "markdown",
   "metadata": {},
   "source": [
    "Para ver los paquetes que ya tenemos instalados escribimos:\n",
    "\n",
    "* conda list"
   ]
  }
 ],
 "metadata": {
  "kernelspec": {
   "display_name": "Python 3",
   "language": "python",
   "name": "python3"
  },
  "language_info": {
   "codemirror_mode": {
    "name": "ipython",
    "version": 3
   },
   "file_extension": ".py",
   "mimetype": "text/x-python",
   "name": "python",
   "nbconvert_exporter": "python",
   "pygments_lexer": "ipython3",
   "version": "3.4.3"
  }
 },
 "nbformat": 4,
 "nbformat_minor": 0
}
