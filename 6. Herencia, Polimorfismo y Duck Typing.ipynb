{
 "cells": [
  {
   "cell_type": "markdown",
   "metadata": {},
   "source": [
    "# 6. Herencia, Polimorfismo y Duck Typing"
   ]
  },
  {
   "cell_type": "markdown",
   "metadata": {},
   "source": [
    "## Herencia"
   ]
  },
  {
   "cell_type": "markdown",
   "metadata": {},
   "source": [
    "Todas las clases de python heredan de la clase Object"
   ]
  },
  {
   "cell_type": "markdown",
   "metadata": {},
   "source": [
    "Ejemplo de lo que es una superclase y subclase\n",
    "\n",
    "http://www.bibliofiloenmascarado.com/wp-content/uploads/2012/05/Juego-de-tronos-arbol-genealogico21.png"
   ]
  },
  {
   "cell_type": "markdown",
   "metadata": {},
   "source": [
    "Lo único que hay que hacer es incluir entre parentesis el nombre de la clase Padre"
   ]
  },
  {
   "cell_type": "code",
   "execution_count": null,
   "metadata": {
    "collapsed": false
   },
   "outputs": [],
   "source": [
    "class MiSubClase(object):\n",
    "    pass"
   ]
  },
  {
   "cell_type": "markdown",
   "metadata": {},
   "source": [
    "__ La herencia nos evita tener que volver a escribir lo mismo en otra clase __"
   ]
  },
  {
   "cell_type": "code",
   "execution_count": null,
   "metadata": {
    "collapsed": true
   },
   "outputs": [],
   "source": [
    "class Contacto:\n",
    "    todos_contactos = [] #Variable de clase, es compartida por todas las instancias de la clase\n",
    "    \n",
    "    def __init__(self, nombre, email):\n",
    "        self.nombre = nombre\n",
    "        self.email = email\n",
    "        Contacto.todos_contactos.append(self)"
   ]
  },
  {
   "cell_type": "markdown",
   "metadata": {},
   "source": [
    "Ahora creamos un Vendedor que es un contacto pero con unos métodos especiales"
   ]
  },
  {
   "cell_type": "code",
   "execution_count": null,
   "metadata": {
    "collapsed": false
   },
   "outputs": [],
   "source": [
    "class Vendedor(Contacto):\n",
    "    def pedido(self, pedido):\n",
    "        print(\"En una aplicación completa enviaría el pedido {0} \".format(pedido))"
   ]
  },
  {
   "cell_type": "markdown",
   "metadata": {},
   "source": [
    "Ahora usamos las clases anteriores"
   ]
  },
  {
   "cell_type": "code",
   "execution_count": null,
   "metadata": {
    "collapsed": true
   },
   "outputs": [],
   "source": [
    "c = Contacto(\"Eddard Stark\", \"elputoamo@email.com\")\n",
    "v = Vendedor(\"Petyr Baelish\", \"menique@email.com\")"
   ]
  },
  {
   "cell_type": "code",
   "execution_count": null,
   "metadata": {
    "collapsed": false
   },
   "outputs": [],
   "source": [
    "print(c.nombre, v.nombre)"
   ]
  },
  {
   "cell_type": "code",
   "execution_count": null,
   "metadata": {
    "collapsed": false
   },
   "outputs": [],
   "source": [
    "c.todos_contactos # Observamos que hay un contacto y un vendedor"
   ]
  },
  {
   "cell_type": "code",
   "execution_count": null,
   "metadata": {
    "collapsed": false
   },
   "outputs": [],
   "source": [
    "c.pedido(\"1 carro de oro\")"
   ]
  },
  {
   "cell_type": "code",
   "execution_count": null,
   "metadata": {
    "collapsed": false
   },
   "outputs": [],
   "source": [
    "v.pedido(\"100 pu***\")"
   ]
  },
  {
   "cell_type": "markdown",
   "metadata": {},
   "source": [
    "## Sobrescritura de métodos y uso de super"
   ]
  },
  {
   "cell_type": "markdown",
   "metadata": {},
   "source": [
    "Creamos una nueva clase que liste todos los contactos"
   ]
  },
  {
   "cell_type": "code",
   "execution_count": 1,
   "metadata": {
    "collapsed": true
   },
   "outputs": [],
   "source": [
    "class ListaContactos(list): # List es una clase preconstruida\n",
    "    def buscar(self, nombre):\n",
    "        '''Devuelve todos los contactos que contienen el valor de búsqueda en su nombre'''\n",
    "        contactos_coincidentes = []\n",
    "        for contacto in self:\n",
    "            if nombre in contacto.nombre:\n",
    "                contactos_coincidentes.append(contacto)\n",
    "        return contactos_coincidentes\n",
    "    "
   ]
  },
  {
   "cell_type": "code",
   "execution_count": 2,
   "metadata": {
    "collapsed": false
   },
   "outputs": [],
   "source": [
    "class Contacto:\n",
    "    todos_contactos = ListaContactos()\n",
    "    \n",
    "    def __init__(self, nombre, email):\n",
    "        self.nombre = nombre\n",
    "        self.email = email\n",
    "        Contacto.todos_contactos.append(self)"
   ]
  },
  {
   "cell_type": "code",
   "execution_count": 3,
   "metadata": {
    "collapsed": false
   },
   "outputs": [
    {
     "data": {
      "text/plain": [
       "True"
      ]
     },
     "execution_count": 3,
     "metadata": {},
     "output_type": "execute_result"
    }
   ],
   "source": [
    "# Por qué puedo sustituir [] por Lista de contactos\n",
    "[] == list()"
   ]
  },
  {
   "cell_type": "code",
   "execution_count": 4,
   "metadata": {
    "collapsed": true
   },
   "outputs": [],
   "source": [
    "c1 = Contacto(\"Juan A\", \"juana@email.com\")\n",
    "c2 = Contacto(\"Juan B\", \"juanb@email.com\")\n",
    "c3 = Contacto(\"Juan C\", \"juanc@email.com\")"
   ]
  },
  {
   "cell_type": "code",
   "execution_count": 8,
   "metadata": {
    "collapsed": false
   },
   "outputs": [
    {
     "data": {
      "text/plain": [
       "['Juan A', 'Juan B', 'Juan C']"
      ]
     },
     "execution_count": 8,
     "metadata": {},
     "output_type": "execute_result"
    }
   ],
   "source": [
    "[c.nombre for c in Contacto.todos_contactos.buscar('Juan')]"
   ]
  },
  {
   "cell_type": "markdown",
   "metadata": {},
   "source": [
    "Extender la clase dict (diccionario)"
   ]
  },
  {
   "cell_type": "code",
   "execution_count": 20,
   "metadata": {
    "collapsed": true
   },
   "outputs": [],
   "source": [
    "class NombreLargoDict(dict): \n",
    "    def clave_maslarga(self):\n",
    "        maslarga = \"\"\n",
    "        for key in self:\n",
    "            if(not maslarga or len(key) > len(maslarga)):\n",
    "                maslarga = key\n",
    "        return maslarga"
   ]
  },
  {
   "cell_type": "code",
   "execution_count": 21,
   "metadata": {
    "collapsed": true
   },
   "outputs": [],
   "source": [
    "clavelarga = NombreLargoDict()"
   ]
  },
  {
   "cell_type": "code",
   "execution_count": 22,
   "metadata": {
    "collapsed": true
   },
   "outputs": [],
   "source": [
    "clavelarga['hola'] = 1\n",
    "clavelarga['la mas larga'] = 1\n",
    "clavelarga['adios'] = 1\n",
    "clavelarga['IEEE'] = 1"
   ]
  },
  {
   "cell_type": "code",
   "execution_count": 23,
   "metadata": {
    "collapsed": false
   },
   "outputs": [
    {
     "data": {
      "text/plain": [
       "'la mas larga'"
      ]
     },
     "execution_count": 23,
     "metadata": {},
     "output_type": "execute_result"
    }
   ],
   "source": [
    "clavelarga.clave_maslarga()"
   ]
  },
  {
   "cell_type": "markdown",
   "metadata": {},
   "source": [
    "### Sobrescribir métodos"
   ]
  },
  {
   "cell_type": "code",
   "execution_count": 25,
   "metadata": {
    "collapsed": true
   },
   "outputs": [],
   "source": [
    "class Vendedor(Contacto):\n",
    "    def __init__(self, nombre, email,telefono):\n",
    "        self.nombre = nombre\n",
    "        self.email = email\n",
    "        self.telefono = telefono\n",
    "        \n",
    "    def pedido(self, pedido):\n",
    "        print(\"En una aplicación completa enviaría el pedido {0} \".format(pedido))"
   ]
  },
  {
   "cell_type": "markdown",
   "metadata": {},
   "source": [
    "### Uso de Super"
   ]
  },
  {
   "cell_type": "markdown",
   "metadata": {},
   "source": [
    "Para evitarnos el código repetido usamos la función Super()"
   ]
  },
  {
   "cell_type": "code",
   "execution_count": 26,
   "metadata": {
    "collapsed": true
   },
   "outputs": [],
   "source": [
    "class Vendedor(Contacto):\n",
    "    def __init__(self, nombre, email,telefono):\n",
    "        Super().___init__(nombre, email)\n",
    "        self.telefono = telefono\n",
    "        \n",
    "    def pedido(self, pedido):\n",
    "        print(\"En una aplicación completa enviaría el pedido {0} \".format(pedido))"
   ]
  },
  {
   "cell_type": "markdown",
   "metadata": {},
   "source": [
    "## Polimorfismo"
   ]
  },
  {
   "cell_type": "markdown",
   "metadata": {},
   "source": [
    "LLamar a diferentes subclases usando la clase padre"
   ]
  },
  {
   "cell_type": "code",
   "execution_count": 34,
   "metadata": {
    "collapsed": true
   },
   "outputs": [],
   "source": [
    "class ArchivoAudio:\n",
    "    def __init__(self, nombreArchivo):\n",
    "        if not nombreArchivo.endswith(self.ext):\n",
    "            raise Exception(\"Formato archivo inválido\")\n",
    "        self.nombreArchivo = nombreArchivo"
   ]
  },
  {
   "cell_type": "code",
   "execution_count": 35,
   "metadata": {
    "collapsed": true
   },
   "outputs": [],
   "source": [
    "class ArchivoMP3(ArchivoAudio):\n",
    "    ext = \"mp3\"\n",
    "    def play(self):\n",
    "        print(\"Reproduciendose {} como mp3\".format(self.nombreArchivo))"
   ]
  },
  {
   "cell_type": "code",
   "execution_count": 36,
   "metadata": {
    "collapsed": true
   },
   "outputs": [],
   "source": [
    "class ArchivoWAV(ArchivoAudio):\n",
    "    ext = \"wav\"\n",
    "    def play(self):\n",
    "        print(\"Reproduciendose {} como wav\".format(self.nombreArchivo))"
   ]
  },
  {
   "cell_type": "code",
   "execution_count": 37,
   "metadata": {
    "collapsed": true
   },
   "outputs": [],
   "source": [
    "class ArchivoOgg(ArchivoAudio):\n",
    "    ext = \"ogg\"\n",
    "    def play(self):\n",
    "        print(\"Reproduciendose {} como Ogg\".format(self.nombreArchivo))"
   ]
  },
  {
   "cell_type": "code",
   "execution_count": 39,
   "metadata": {
    "collapsed": false
   },
   "outputs": [
    {
     "name": "stdout",
     "output_type": "stream",
     "text": [
      "Reproduciendose miarchivo.ogg como Ogg\n"
     ]
    }
   ],
   "source": [
    "ogg = ArchivoOgg(\"miarchivo.ogg\")\n",
    "ogg.play()"
   ]
  },
  {
   "cell_type": "code",
   "execution_count": 40,
   "metadata": {
    "collapsed": false
   },
   "outputs": [
    {
     "name": "stdout",
     "output_type": "stream",
     "text": [
      "Reproduciendose miarchivo.mp3 como mp3\n"
     ]
    }
   ],
   "source": [
    "mp3 = ArchivoMP3(\"miarchivo.mp3\")\n",
    "mp3.play()"
   ]
  },
  {
   "cell_type": "markdown",
   "metadata": {},
   "source": [
    "## Duck typing"
   ]
  },
  {
   "cell_type": "code",
   "execution_count": 41,
   "metadata": {
    "collapsed": true
   },
   "outputs": [],
   "source": [
    "class ArchivoWebM:\n",
    "    def __init__(self, nombrearchivo):\n",
    "        if not nombrearchivo.endwith(\".webm\"):\n",
    "            raise Exception(\"formato de archivo inválido\")\n",
    "        self.nombreArchivo = nombrearchivo\n",
    "    def play(self):\n",
    "        print(\"ejecutandose {} como archivo webm\".format(self.nombreArchivo))"
   ]
  }
 ],
 "metadata": {
  "kernelspec": {
   "display_name": "Python 3",
   "language": "python",
   "name": "python3"
  },
  "language_info": {
   "codemirror_mode": {
    "name": "ipython",
    "version": 3
   },
   "file_extension": ".py",
   "mimetype": "text/x-python",
   "name": "python",
   "nbconvert_exporter": "python",
   "pygments_lexer": "ipython3",
   "version": "3.4.3"
  }
 },
 "nbformat": 4,
 "nbformat_minor": 0
}
